{
 "cells": [
  {
   "cell_type": "code",
   "execution_count": 1,
   "metadata": {},
   "outputs": [],
   "source": [
    "import os"
   ]
  },
  {
   "cell_type": "code",
   "execution_count": 2,
   "metadata": {},
   "outputs": [
    {
     "data": {
      "text/plain": [
       "'/home/ehsan/PycharmProjects/Computer-Vision/face_attendance/research'"
      ]
     },
     "execution_count": 2,
     "metadata": {},
     "output_type": "execute_result"
    }
   ],
   "source": [
    "%pwd"
   ]
  },
  {
   "cell_type": "code",
   "execution_count": 3,
   "metadata": {},
   "outputs": [
    {
     "data": {
      "text/plain": [
       "'/home/ehsan/PycharmProjects/Computer-Vision/face_attendance'"
      ]
     },
     "execution_count": 3,
     "metadata": {},
     "output_type": "execute_result"
    }
   ],
   "source": [
    "os.chdir('../')\n",
    "%pwd"
   ]
  },
  {
   "cell_type": "code",
   "execution_count": 4,
   "metadata": {},
   "outputs": [],
   "source": [
    "import sqlite3\n",
    "import face_recognition\n",
    "import numpy as np\n",
    "import cv2\n",
    "import time\n",
    "from faceAttendance.entity import FaceRecognitionConfig\n",
    "from faceAttendance import logger\n"
   ]
  },
  {
   "cell_type": "code",
   "execution_count": 5,
   "metadata": {},
   "outputs": [],
   "source": [
    "\n",
    "class FaceRecognition:\n",
    "    def __init__(self, config: FaceRecognitionConfig):\n",
    "        self.config = config\n",
    "\n",
    "    def take_picture(self):\n",
    "        cap = cv2.VideoCapture(self.config.num_cam)\n",
    "        # Check if the webcam opened successfully\n",
    "        if not cap.isOpened():\n",
    "            print(\"Error: Could not open webcam\")\n",
    "            return\n",
    "\n",
    "        countdown_duration = 3  # seconds\n",
    "        countdown = countdown_duration\n",
    "\n",
    "        while True:\n",
    "            # Capture frame-by-frame\n",
    "            ret, frame = cap.read()\n",
    "\n",
    "            if ret:\n",
    "                # Display the frame\n",
    "                cv2.imshow('Webcam', frame)\n",
    "\n",
    "                # Check for key press 'p' to start countdown\n",
    "                key = cv2.waitKey(1)\n",
    "                if key == ord('p'):\n",
    "                    # Start countdown\n",
    "                    start_time = time.time()\n",
    "                    while countdown >= 0:\n",
    "                        # Display countdown on the frame\n",
    "                        cv2.putText(frame, str(countdown), (50, 50), cv2.FONT_HERSHEY_SIMPLEX, 2, (0, 0, 255), 2)\n",
    "                        cv2.imshow('Webcam', frame)\n",
    "\n",
    "                        # Update countdown value\n",
    "                        current_time = time.time()\n",
    "                        elapsed_time = current_time - start_time\n",
    "                        countdown = countdown_duration - int(elapsed_time)\n",
    "\n",
    "                        # Break if countdown is over\n",
    "                        if countdown < 0:\n",
    "                            break\n",
    "\n",
    "                        # Wait for a short duration\n",
    "                        time.sleep(0.5)\n",
    "\n",
    "                    # Save the last frame\n",
    "                    cv2.imwrite(self.config.face_out_path, frame)\n",
    "                    print(\"Last frame saved successfully as 'last_frame.jpg'!\")\n",
    "                    break\n",
    "\n",
    "                # Break if 'q' key is pressed\n",
    "                elif key == ord('q'):\n",
    "                    break\n",
    "\n",
    "            else:\n",
    "                print(\"Error: Could not read frame from webcam\")\n",
    "                break\n",
    "\n",
    "\n",
    "        cap.release()\n",
    "        cv2.destroyAllWindows()\n",
    "                \n",
    "\n",
    "    def face_recognition(self):\n",
    "        pass"
   ]
  },
  {
   "cell_type": "code",
   "execution_count": 6,
   "metadata": {},
   "outputs": [],
   "source": [
    "from faceAttendance.config.configuration import ConfigurationManger"
   ]
  },
  {
   "cell_type": "code",
   "execution_count": 7,
   "metadata": {},
   "outputs": [
    {
     "name": "stdout",
     "output_type": "stream",
     "text": [
      "[2024-05-07 17:27:44,718 - INFO: common __ Loaded yaml file config/config.yaml]\n",
      "[2024-05-07 17:27:44,720 - INFO: common __ Loaded yaml file params.yaml]\n",
      "[2024-05-07 17:27:44,721 - INFO: common __ Creating directory artifacts]\n"
     ]
    },
    {
     "ename": "error",
     "evalue": "OpenCV(4.8.0) /io/opencv/modules/highgui/src/window.cpp:1272: error: (-2:Unspecified error) The function is not implemented. Rebuild the library with Windows, GTK+ 2.x or Cocoa support. If you are on Ubuntu or Debian, install libgtk2.0-dev and pkg-config, then re-run cmake or configure script in function 'cvShowImage'\n",
     "output_type": "error",
     "traceback": [
      "\u001b[0;31m---------------------------------------------------------------------------\u001b[0m",
      "\u001b[0;31merror\u001b[0m                                     Traceback (most recent call last)",
      "Cell \u001b[0;32mIn[7], line 4\u001b[0m\n\u001b[1;32m      2\u001b[0m face_recognition_config \u001b[38;5;241m=\u001b[39m config\u001b[38;5;241m.\u001b[39mget_face_recognition_config()\n\u001b[1;32m      3\u001b[0m face_recognition \u001b[38;5;241m=\u001b[39m FaceRecognition(face_recognition_config)\n\u001b[0;32m----> 4\u001b[0m \u001b[43mface_recognition\u001b[49m\u001b[38;5;241;43m.\u001b[39;49m\u001b[43mtake_picture\u001b[49m\u001b[43m(\u001b[49m\u001b[43m)\u001b[49m\n",
      "Cell \u001b[0;32mIn[5], line 21\u001b[0m, in \u001b[0;36mFaceRecognition.take_picture\u001b[0;34m(self)\u001b[0m\n\u001b[1;32m     17\u001b[0m ret, frame \u001b[38;5;241m=\u001b[39m cap\u001b[38;5;241m.\u001b[39mread()\n\u001b[1;32m     19\u001b[0m \u001b[38;5;28;01mif\u001b[39;00m ret:\n\u001b[1;32m     20\u001b[0m     \u001b[38;5;66;03m# Display the frame\u001b[39;00m\n\u001b[0;32m---> 21\u001b[0m     \u001b[43mcv2\u001b[49m\u001b[38;5;241;43m.\u001b[39;49m\u001b[43mimshow\u001b[49m\u001b[43m(\u001b[49m\u001b[38;5;124;43m'\u001b[39;49m\u001b[38;5;124;43mWebcam\u001b[39;49m\u001b[38;5;124;43m'\u001b[39;49m\u001b[43m,\u001b[49m\u001b[43m \u001b[49m\u001b[43mframe\u001b[49m\u001b[43m)\u001b[49m\n\u001b[1;32m     23\u001b[0m     \u001b[38;5;66;03m# Check for key press 'p' to start countdown\u001b[39;00m\n\u001b[1;32m     24\u001b[0m     key \u001b[38;5;241m=\u001b[39m cv2\u001b[38;5;241m.\u001b[39mwaitKey(\u001b[38;5;241m1\u001b[39m)\n",
      "\u001b[0;31merror\u001b[0m: OpenCV(4.8.0) /io/opencv/modules/highgui/src/window.cpp:1272: error: (-2:Unspecified error) The function is not implemented. Rebuild the library with Windows, GTK+ 2.x or Cocoa support. If you are on Ubuntu or Debian, install libgtk2.0-dev and pkg-config, then re-run cmake or configure script in function 'cvShowImage'\n"
     ]
    }
   ],
   "source": [
    "config = ConfigurationManger()\n",
    "face_recognition_config = config.get_face_recognition_config()\n",
    "face_recognition = FaceRecognition(face_recognition_config)\n",
    "face_recognition.take_picture()"
   ]
  },
  {
   "cell_type": "code",
   "execution_count": null,
   "metadata": {},
   "outputs": [],
   "source": []
  }
 ],
 "metadata": {
  "kernelspec": {
   "display_name": "computer-vision",
   "language": "python",
   "name": "python3"
  },
  "language_info": {
   "codemirror_mode": {
    "name": "ipython",
    "version": 3
   },
   "file_extension": ".py",
   "mimetype": "text/x-python",
   "name": "python",
   "nbconvert_exporter": "python",
   "pygments_lexer": "ipython3",
   "version": "3.11.8"
  }
 },
 "nbformat": 4,
 "nbformat_minor": 2
}
